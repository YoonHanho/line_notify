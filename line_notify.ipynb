{
 "cells": [
  {
   "cell_type": "markdown",
   "metadata": {
    "colab_type": "text",
    "id": "NDb7bAHzQA4X"
   },
   "source": [
    "# 라인 메신저 Notify 알림 보내기\n",
    "\n",
    "- line notify? 라인의 메시지 수신 전용 API\n",
    "- 메시지 수신 기능만 제공하기 때문에, 대화형 챗봇/UX구성과 같은 복잡한 기능 활용은 라인 봇 활용    \n",
    "- 계정별로 notify 토큰 받고 시작하자 : https://engineering.linecorp.com/ko/blog/line-notify-with-node-js-python-1-basic/"
   ]
  },
  {
   "cell_type": "code",
   "execution_count": 0,
   "metadata": {
    "colab": {},
    "colab_type": "code",
    "id": "7ojO595GC_s0"
   },
   "outputs": [],
   "source": [
    "import os\n",
    "import sys\n",
    "import json\n",
    "\n",
    "import requests\n",
    "import urllib.request\n",
    "import urllib\n",
    "from bs4 import BeautifulSoup\n",
    "\n",
    "# 라인 메신저 토큰\n",
    "ACCESS_TOKEN = 'YOUR_ACCESS_TOKEN_HERE'\n",
    "\n",
    "# 네이버 개발자 센터 : 단축 URL 생성용\n",
    "client_id = \"YOUR_CLIENT_ID_HERE\"\n",
    "client_secret = \"YOUR_CLIENT_SECRET_HERE\""
   ]
  },
  {
   "cell_type": "markdown",
   "metadata": {
    "colab_type": "text",
    "id": "22tKnCd3P5CZ"
   },
   "source": [
    "### 테스트 과제  : 웹 크롤링 결과를 라인 notify로 보내기\n",
    "\n",
    "- 타겟사이트 : 오늘의 유머 베오베 사이트\n",
    "- 링크를 예쁘게 보이기 위해 단축URL 활용 : 네이버API(하루 2.5만건 무료 제공)"
   ]
  },
  {
   "cell_type": "code",
   "execution_count": 0,
   "metadata": {
    "colab": {},
    "colab_type": "code",
    "id": "kPFapMt8LsCk"
   },
   "outputs": [],
   "source": [
    "def send_linemsg(msg):\n",
    "    URL = 'https://notify-api.line.me/api/notify'\n",
    "    MESSAGE_FIELD = {'message' : msg}\n",
    "    LINE_HEADERS = {'Authorization': 'Bearer ' + ACCESS_TOKEN}\n",
    "\n",
    "    try:\n",
    "          response = requests.post(\n",
    "              url=URL,\n",
    "              headers=LINE_HEADERS,\n",
    "              data=MESSAGE_FIELD\n",
    "          )\n",
    "            print('Response HTTP Status Code: {status_code}'.format(\n",
    "              status_code=response.status_code))\n",
    "    except requests.exceptions.RequestException:\n",
    "            print('HTTP Request failed')      \n",
    "\n",
    "\n",
    "def make_short_url(url_origin):\n",
    "    encText = urllib.parse.quote(url_origin)\n",
    "    data = \"url=\" + encText\n",
    "\n",
    "    url = \"https://openapi.naver.com/v1/util/shorturl\"\n",
    "    request = urllib.request.Request(url)\n",
    "    request.add_header(\"X-Naver-Client-Id\",client_id)\n",
    "    request.add_header(\"X-Naver-Client-Secret\",client_secret)\n",
    "    response = urllib.request.urlopen(request, data=data.encode(\"utf-8\"))\n",
    "    rescode = response.getcode()\n",
    "\n",
    "    if(rescode==200):\n",
    "        response_body = response.read()          \n",
    "    else:\n",
    "        print(\"Error Code:\" + rescode)\n",
    "\n",
    "    return json.loads(response_body)['result']['url']    "
   ]
  },
  {
   "cell_type": "code",
   "execution_count": 0,
   "metadata": {
    "colab": {},
    "colab_type": "code",
    "id": "QRfp-30cEpkM"
   },
   "outputs": [],
   "source": [
    "url = 'http://www.todayhumor.co.kr/board/list.php?table=bestofbest'\n",
    "\n",
    "req = requests.get(url)\n",
    "html = req.text\n",
    "soup = BeautifulSoup(html, 'html.parser')\n",
    "\n",
    "links = soup.select('td.subject > a')\n",
    "\n",
    "msg = '오늘의 오유 | 베오베 \\n'\n",
    "for i, link in enumerate(links):\n",
    "    title = str(i+1) + '. ' + link.text.strip()\n",
    "    link_url = make_short_url('http://www.todayhumor.co.kr' + link.get('href'))\n",
    "    msg = '\\n'.join([msg,title,link_url,'\\n'])\n",
    "        if i > 18:         # 20개만 보내자 \n",
    "    break"
   ]
  },
  {
   "cell_type": "code",
   "execution_count": 4,
   "metadata": {
    "colab": {
     "base_uri": "https://localhost:8080/",
     "height": 1000
    },
    "colab_type": "code",
    "id": "HYJ4McMmTVFC",
    "outputId": "79e5468f-7c54-4d7a-e376-379605f5188f"
   },
   "outputs": [
    {
     "name": "stdout",
     "output_type": "stream",
     "text": [
      "오늘의 오유 | 베오베 \n",
      "\n",
      "1. 펌] 유부남이 말하는 결혼의 장점\n",
      "http://me2.do/FCGO8W7w\n",
      "\n",
      "\n",
      "2. 양궁 세계 신기록 기록 갱신 실패\n",
      "http://me2.do/FSNJ7hDh\n",
      "\n",
      "\n",
      "3. 행복한 고슴도치의 여행.jpg\n",
      "http://me2.do/xhOeCRcY\n",
      "\n",
      "\n",
      "4. 마약법 위반으로 체포된 앵무새.jpg\n",
      "http://me2.do/5pOLsih6\n",
      "\n",
      "\n",
      "5. [장문]  논란이 된, 비혼주의자 여성유튜버에게 달린 댓글.jpg\n",
      "http://me2.do/GnTMy3o4\n",
      "\n",
      "\n",
      "6. 남자 소변 자세 논란 종결.jpg\n",
      "http://me2.do/xY6KsAdO\n",
      "\n",
      "\n",
      "7. 아마추어들의 파티에 나타난 준프로\n",
      "http://me2.do/I5Ssardf\n",
      "\n",
      "\n",
      "8. 고대 로마제국의 의학수준ㄷㄷㄷ.JPG\n",
      "http://me2.do/GOyWeL3e\n",
      "\n",
      "\n",
      "9. 목 떨어져서 얼른 주워들음....\n",
      "http://me2.do/x61fytkV\n",
      "\n",
      "\n",
      "10. 운전법규를 잘 모르는 운전자\n",
      "http://me2.do/5BSsjpDv\n",
      "\n",
      "\n",
      "11. 심심풀이로 볼만한 움짤들 모음 609.GIF\n",
      "http://me2.do/GRyn4Hl6\n",
      "\n",
      "\n",
      "12. 직업 만족도 100% 카메라맨\n",
      "http://me2.do/xLR2A0rO\n",
      "\n",
      "\n",
      "13. 드라마 고등학생 역할 레전드.jpg\n",
      "http://me2.do/5xiDpEGa\n",
      "\n",
      "\n",
      "14. 러시아의 전통 코스튬.jpg\n",
      "http://me2.do/G4yPo1T5\n",
      "\n",
      "\n",
      "15. 중국에서 택시를 조심해야 하는 이유\n",
      "http://me2.do/xQr72Myp\n",
      "\n",
      "\n",
      "16. 칸쵸 코스프레\n",
      "http://me2.do/FviVgmAK\n",
      "\n",
      "\n",
      "17. 대왕 치즈돈까스 만드는 방법.jpg\n",
      "http://me2.do/GdbUmzvj\n",
      "\n",
      "\n",
      "18. 길가다 본 치명적 뒷태\n",
      "http://me2.do/5tsYtFxv\n",
      "\n",
      "\n",
      "19. 외래종유입이 무서운 이유\n",
      "http://me2.do/596XoDZN\n",
      "\n",
      "\n",
      "20. 새로산 드레스를 맘에 들어하는 딸을 보며 흐믓해하는 엄마의 구매후기\n",
      "http://me2.do/FLJqW9PF\n",
      "\n",
      "\n"
     ]
    }
   ],
   "source": [
    "print(msg)"
   ]
  },
  {
   "cell_type": "code",
   "execution_count": 5,
   "metadata": {
    "colab": {
     "base_uri": "https://localhost:8080/",
     "height": 35
    },
    "colab_type": "code",
    "id": "hoIstmSoEpxS",
    "outputId": "7eb49712-367f-4a82-8e1e-416e8f97df8b"
   },
   "outputs": [
    {
     "name": "stdout",
     "output_type": "stream",
     "text": [
      "Response HTTP Status Code: 200\n"
     ]
    }
   ],
   "source": [
    "send_linemsg(msg)"
   ]
  },
  {
   "cell_type": "markdown",
   "metadata": {
    "colab_type": "text",
    "id": "vfRILpb84EGl"
   },
   "source": [
    "심심하니 하나 더 하고 마무리. 웹사이트가 유사한 구조인 클리앙-모두의 공원"
   ]
  },
  {
   "cell_type": "code",
   "execution_count": 0,
   "metadata": {
    "colab": {},
    "colab_type": "code",
    "id": "ZOjrEXqmhPD8"
   },
   "outputs": [],
   "source": [
    "url = 'https://www.clien.net/service/board/park?od=T33'\n",
    "\n",
    "req = requests.get(url)\n",
    "html = req.text\n",
    "soup = BeautifulSoup(html, 'html.parser')\n",
    "links = soup.select('div.list_title > a.list_subject')\n",
    "\n",
    "msg = '클리앙 | 모두의 공원 \\n'\n",
    "for i, link in enumerate(links):\n",
    "    title = str(i) + '. ' + link.text.strip()\n",
    "    link_url = make_short_url('https://www.clien.net' + link.get('href'))\n",
    "    if i == 0:           # 첫 게시글은 공지사항. 생략하자\n",
    "        pass\n",
    "    elif i > 18:         # 20개만 보내자 \n",
    "        break \n",
    "    else:\n",
    "        msg = '\\n'.join([msg,title,link_url,'\\n'])"
   ]
  },
  {
   "cell_type": "code",
   "execution_count": 7,
   "metadata": {
    "colab": {
     "base_uri": "https://localhost:8080/",
     "height": 1000
    },
    "colab_type": "code",
    "id": "zmNqgzhvhdFi",
    "outputId": "eeeba60a-80a0-4732-9669-853181df798a"
   },
   "outputs": [
    {
     "name": "stdout",
     "output_type": "stream",
     "text": [
      "클리앙 | 모두의 공원 \n",
      "\n",
      "1. MBC가 시청률 일을 냈군요..\n",
      "http://me2.do/xz3Ym8DC\n",
      "\n",
      "\n",
      "2. 극혐)박찬주 아내 갑질 만행 정리\n",
      "http://me2.do/FZKE7Dpd\n",
      "\n",
      "\n",
      "3. 두달만에 60억이 600만원 됐네요....\n",
      "http://me2.do/xXNs5Kkk\n",
      "\n",
      "\n",
      "4. 진짜 욕 한 마디 하겠습니다 너무 화나네요\n",
      "http://me2.do/xpDdAteG\n",
      "\n",
      "\n",
      "5. 계엄령 문건 덮었다는 '윤석열 직인'···알고보니 자동 출력\n",
      "http://me2.do/5yrznSUP\n",
      "\n",
      "\n",
      "6. 유시민 이사장이 진짜 고수인거 같아요\n",
      "http://me2.do/F4eGM1KV\n",
      "\n",
      "\n",
      "7. 아름다운 대학생\n",
      "http://me2.do/x2ElQBMX\n",
      "\n",
      "\n",
      "8. 민경욱, 文대통령 모친상에 '모시고 살 수 없었나' 발언 논란\n",
      "http://me2.do/5bIEs6s8\n",
      "\n",
      "\n",
      "9. 한국기자협회 근황\n",
      "http://me2.do/GIjZJpJd\n",
      "\n",
      "\n",
      "10. 살인마들의 공통점.jpg\n",
      "http://me2.do/GGNytAtc\n",
      "\n",
      "\n",
      "11. 대통령 어머님이신걸 병원에서 몰랐다네요..\n",
      "http://me2.do/5fSZp1xJ\n",
      "\n",
      "\n",
      "12. MBN노조 '사과의 말씀 드리지만 종편 취소로 고용 위협되어선 일자리 정부 아닐것'\n",
      "http://me2.do/GvrxTmtl\n",
      "\n",
      "\n",
      "13. 검찰 외통수 걸렸군요. 유시민 이사장에게..\n",
      "http://me2.do/xgUjSQEV\n",
      "\n",
      "\n",
      "14. 문재인 케어 실감해보니 정말 고맙네요..\n",
      "http://me2.do/FLJqTZvC\n",
      "\n",
      "\n",
      "15. [자료] 리얼미터 대통령 48.5% 민주당 39.9%\n",
      "http://me2.do/xtFLxjOS\n",
      "\n",
      "\n",
      "16. (펌) 버클리대 석좌교수의 문재인 대통령 평가\n",
      "http://me2.do/GNnGkxLF\n",
      "\n",
      "\n",
      "17. 오늘 뉴스공장을 듣고 느낀 점 3가지\n",
      "http://me2.do/xZmPbcfx\n",
      "\n",
      "\n",
      "18. 프란치스코 교황, 문재인 대통령에 위로 메시지\n",
      "http://me2.do/GvrxTmyK\n",
      "\n",
      "\n"
     ]
    }
   ],
   "source": [
    "print(msg)"
   ]
  },
  {
   "cell_type": "code",
   "execution_count": 8,
   "metadata": {
    "colab": {
     "base_uri": "https://localhost:8080/",
     "height": 35
    },
    "colab_type": "code",
    "id": "2lm3wawjjHs-",
    "outputId": "415a4277-dace-4e49-d12d-bbcf0724e37c"
   },
   "outputs": [
    {
     "name": "stdout",
     "output_type": "stream",
     "text": [
      "Response HTTP Status Code: 200\n"
     ]
    }
   ],
   "source": [
    "send_linemsg(msg)"
   ]
  },
  {
   "cell_type": "code",
   "execution_count": 0,
   "metadata": {
    "colab": {},
    "colab_type": "code",
    "id": "zif-ML8sj_BB"
   },
   "outputs": [],
   "source": []
  }
 ],
 "metadata": {
  "colab": {
   "collapsed_sections": [],
   "name": "line_notify.ipynb",
   "provenance": []
  },
  "kernelspec": {
   "display_name": "Python 3",
   "language": "python",
   "name": "python3"
  },
  "language_info": {
   "codemirror_mode": {
    "name": "ipython",
    "version": 3
   },
   "file_extension": ".py",
   "mimetype": "text/x-python",
   "name": "python",
   "nbconvert_exporter": "python",
   "pygments_lexer": "ipython3",
   "version": "3.7.3"
  }
 },
 "nbformat": 4,
 "nbformat_minor": 1
}
